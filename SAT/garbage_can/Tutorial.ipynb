{
 "cells": [
  {
   "cell_type": "markdown",
   "id": "0d100d53",
   "metadata": {
    "slideshow": {
     "slide_type": "slide"
    }
   },
   "source": [
    "# SAT with z3: tutorial and examples"
   ]
  },
  {
   "cell_type": "markdown",
   "id": "bfb651c2",
   "metadata": {
    "slideshow": {
     "slide_type": "slide"
    }
   },
   "source": [
    "## Getting Started with Z3\n",
    "\n",
    "[Z3](https://github.com/Z3Prover/z3) is a state-of-the-art theorem prover developed at Microsoft Research and used in many real-world applications such as: software/hardware verification and testing, constraint solving, analysis of hybrid systems, security, and geometrical problems.\n",
    "\n",
    "The Z3 input format is an extension of the [SMT-LIB 2.0 standard](http://www.smtlib.org/), but APIs for common programming languages like `Python`, `Java`, `C`, and `.Net` are officially available in order to ease implementation and favor its use as a component in the context of other tools that require solving logical formulas. Unofficial porting for functional languages like [`Scala`](https://github.com/epfl-lara/ScalaZ3) or [`Haskell`](https://github.com/LeventErkok/sbv) are also available.\n",
    "\n",
    "For the sake of simplicity, in this tutorial we will explore how to use Z3Py (the Z3 API in Python), which is the programming language the reader is probably most comfortable with.\n",
    "\n",
    "At the time of writing, the latest version of Z3 is the `4.8.X`, which is the one used here. Any compatibility issues you may find running this notebook can be related to a different version of the tool."
   ]
  },
  {
   "cell_type": "markdown",
   "id": "cc8ea7ba",
   "metadata": {
    "slideshow": {
     "slide_type": "slide"
    }
   },
   "source": [
    "## Installation\n",
    "\n",
    "The easiest way to install Z3Py, along with the Z3 binary, is to use Python's package manager `pip`.\n",
    "\n",
    "```bash\n",
    "pip install z3-solver\n",
    "```\n",
    "\n",
    "In order to check if Z3 has been installed properly, open a terminal and type:\n",
    "\n",
    "```bash\n",
    "z3 --version\n",
    "```\n",
    "\n",
    "If the output is something like _Z3 version 4.8.X - 64 bit_, you are good to go."
   ]
  },
  {
   "cell_type": "markdown",
   "id": "5a7fcdc1",
   "metadata": {
    "slideshow": {
     "slide_type": "slide"
    }
   },
   "source": [
    "## Startup\n",
    "In order to use z3 in your projects or in your scripts, you need to import it first."
   ]
  },
  {
   "cell_type": "code",
   "execution_count": 1,
   "id": "cc36421d",
   "metadata": {
    "slideshow": {
     "slide_type": "fragment"
    }
   },
   "outputs": [],
   "source": [
    "from z3 import *"
   ]
  },
  {
   "cell_type": "markdown",
   "id": "474a9a40",
   "metadata": {
    "slideshow": {
     "slide_type": "slide"
    }
   },
   "source": [
    "## Boolean Logic\n",
    "\n",
    "As stated before, to shape a SAT problem we need the boolean operators. \n",
    "\n",
    "Z3, being a SAT solver supports all the boolean operators: `And`, `Or`, `Not`, `Implies`, `If`, `==` (bi-implication). \n",
    "\n",
    "The following example shows how to create a boolean formula."
   ]
  },
  {
   "cell_type": "code",
   "execution_count": 2,
   "id": "b29e193b",
   "metadata": {
    "slideshow": {
     "slide_type": "fragment"
    }
   },
   "outputs": [
    {
     "data": {
      "text/html": [
       "(P &rArr; Q) &and; R = &not;Q &and; (&not;P &or; R)"
      ],
      "text/plain": [
       "And(Implies(P, Q), R == Not(Q), Or(Not(P), R))"
      ]
     },
     "execution_count": 2,
     "metadata": {},
     "output_type": "execute_result"
    }
   ],
   "source": [
    "p = Bool('P')\n",
    "q = Bool('Q')\n",
    "r = Bool('R')\n",
    "\n",
    "formula = And(Implies(p, q), r == Not(q), Or(Not(p), r))\n",
    "formula"
   ]
  },
  {
   "cell_type": "markdown",
   "id": "5d22938f",
   "metadata": {
    "slideshow": {
     "slide_type": "slide"
    }
   },
   "source": [
    "You can use the `solve` method to find an assignment of the variables which satisfies the formula."
   ]
  },
  {
   "cell_type": "code",
   "execution_count": 3,
   "id": "e4e2adbc",
   "metadata": {
    "slideshow": {
     "slide_type": "fragment"
    }
   },
   "outputs": [
    {
     "name": "stdout",
     "output_type": "stream",
     "text": [
      "[R = False, Q = True, P = False]\n"
     ]
    }
   ],
   "source": [
    "solve(formula)"
   ]
  },
  {
   "cell_type": "markdown",
   "id": "ce562d6c",
   "metadata": {
    "slideshow": {
     "slide_type": "fragment"
    }
   },
   "source": [
    "`And` operator is implicitly considered by the `solve` function because all the clauses must be valid at the same time, therefore we can omit it."
   ]
  },
  {
   "cell_type": "code",
   "execution_count": 4,
   "id": "9d1c922a",
   "metadata": {
    "slideshow": {
     "slide_type": "fragment"
    }
   },
   "outputs": [
    {
     "name": "stdout",
     "output_type": "stream",
     "text": [
      "[R = False, Q = True, P = False]\n"
     ]
    }
   ],
   "source": [
    "solve(Implies(p, q), r == Not(q), Or(Not(p), r))"
   ]
  },
  {
   "cell_type": "markdown",
   "id": "e1a24171",
   "metadata": {
    "slideshow": {
     "slide_type": "slide"
    }
   },
   "source": [
    "## Solvers\n",
    "\n",
    "The command `solve`, used in the previous examples, is implemented using the Z3 solver API.\n",
    "\n",
    "The command `Solver` creates a general purpose solver. "
   ]
  },
  {
   "cell_type": "code",
   "execution_count": 6,
   "id": "8574a69d",
   "metadata": {
    "slideshow": {
     "slide_type": "fragment"
    }
   },
   "outputs": [],
   "source": [
    "p = Bool('P')\n",
    "q = Bool('Q')\n",
    "r = Bool('R')\n",
    "\n",
    "s = Solver()"
   ]
  },
  {
   "cell_type": "markdown",
   "id": "7be1f766",
   "metadata": {
    "slideshow": {
     "slide_type": "slide"
    }
   },
   "source": [
    "Constraints can be added using the method `add`. We say the constraints have been asserted in the solver."
   ]
  },
  {
   "cell_type": "code",
   "execution_count": 7,
   "id": "9c3a1bd5",
   "metadata": {
    "slideshow": {
     "slide_type": "fragment"
    }
   },
   "outputs": [
    {
     "data": {
      "text/html": [
       "[P &or; Q]"
      ],
      "text/plain": [
       "[Or(P, Q)]"
      ]
     },
     "execution_count": 7,
     "metadata": {},
     "output_type": "execute_result"
    }
   ],
   "source": [
    "s.add(Or(p, q))\n",
    "s"
   ]
  },
  {
   "cell_type": "markdown",
   "id": "f17e4c43",
   "metadata": {
    "slideshow": {
     "slide_type": "slide"
    }
   },
   "source": [
    "The method `check` solves the asserted constraints. The result is `sat` (satisfiable) if a solution was found, `unsat` (unsatisfiable) if no solution exists, or `unknown` if the solver fails to return for some other reason..."
   ]
  },
  {
   "cell_type": "code",
   "execution_count": 8,
   "id": "accb1ba2",
   "metadata": {
    "slideshow": {
     "slide_type": "fragment"
    }
   },
   "outputs": [
    {
     "name": "stdout",
     "output_type": "stream",
     "text": [
      "Solving constraints in the solver s...\n",
      "sat\n"
     ]
    },
    {
     "data": {
      "text/html": [
       "[Q = False, P = True]"
      ],
      "text/plain": [
       "[Q = False, P = True]"
      ]
     },
     "execution_count": 8,
     "metadata": {},
     "output_type": "execute_result"
    }
   ],
   "source": [
    "print(\"Solving constraints in the solver s...\")\n",
    "print(s.check())\n",
    "s.model()"
   ]
  },
  {
   "cell_type": "markdown",
   "id": "f3394677",
   "metadata": {
    "slideshow": {
     "slide_type": "slide"
    }
   },
   "source": [
    "In some applications, we want to explore several similar problems that share several constraints. We can use the commands `push` and `pop` for doing that. \n",
    "\n",
    "Each solver maintains a stack of assertions. The command `push` creates a new scope by saving the current stack size. The command `pop` removes any assertion performed between it and the matching push. The `check` method always operates on the content of solver assertion stack."
   ]
  },
  {
   "cell_type": "code",
   "execution_count": 9,
   "id": "f35fd6c2",
   "metadata": {
    "slideshow": {
     "slide_type": "fragment"
    }
   },
   "outputs": [
    {
     "name": "stdout",
     "output_type": "stream",
     "text": [
      "Create a new scope...\n"
     ]
    },
    {
     "data": {
      "text/html": [
       "[P &or; Q, Q &and; P]"
      ],
      "text/plain": [
       "[Or(P, Q), And(Q, P)]"
      ]
     },
     "execution_count": 9,
     "metadata": {},
     "output_type": "execute_result"
    }
   ],
   "source": [
    "print(\"Create a new scope...\")\n",
    "s.push()\n",
    "s.add(And(q, p))\n",
    "s"
   ]
  },
  {
   "cell_type": "code",
   "execution_count": 10,
   "id": "1575f775",
   "metadata": {
    "slideshow": {
     "slide_type": "fragment"
    }
   },
   "outputs": [
    {
     "name": "stdout",
     "output_type": "stream",
     "text": [
      "Solving updated set of constraints...\n",
      "sat\n"
     ]
    },
    {
     "data": {
      "text/html": [
       "[Q = True, P = True]"
      ],
      "text/plain": [
       "[Q = True, P = True]"
      ]
     },
     "execution_count": 10,
     "metadata": {},
     "output_type": "execute_result"
    }
   ],
   "source": [
    "print(\"Solving updated set of constraints...\")\n",
    "print(s.check())\n",
    "s.model()"
   ]
  },
  {
   "cell_type": "code",
   "execution_count": 11,
   "id": "29bc6726",
   "metadata": {
    "slideshow": {
     "slide_type": "fragment"
    }
   },
   "outputs": [
    {
     "name": "stdout",
     "output_type": "stream",
     "text": [
      "Restoring state...\n",
      "sat\n"
     ]
    },
    {
     "data": {
      "text/html": [
       "[P &or; Q]"
      ],
      "text/plain": [
       "[Or(P, Q)]"
      ]
     },
     "execution_count": 11,
     "metadata": {},
     "output_type": "execute_result"
    }
   ],
   "source": [
    "print(\"Restoring state...\")\n",
    "s.pop()\n",
    "print(s.check())\n",
    "s"
   ]
  },
  {
   "cell_type": "markdown",
   "id": "87290d7b",
   "metadata": {
    "slideshow": {
     "slide_type": "slide"
    }
   },
   "source": [
    "### Proofs\n",
    "\n",
    "Until now, we have talked about satisfiability, determining an assignment of appropriate values under which our series of constraints evaluates to true.\n",
    "\n",
    "Instead, we can be interested in finding a proof of a statement $F$, i.e., whether it is valid for any combination of values. In order to do that, we can exploit the fact that if $F$ is always true, $\\mbox{Not}(F)$ is always false, therefore trying to satisfy it gives `unsat` as result."
   ]
  },
  {
   "cell_type": "markdown",
   "id": "b5ac3ffb",
   "metadata": {
    "slideshow": {
     "slide_type": "slide"
    }
   },
   "source": [
    "The following example use this trick to prove De Morgan's law."
   ]
  },
  {
   "cell_type": "code",
   "execution_count": 12,
   "id": "f3005cf7",
   "metadata": {
    "slideshow": {
     "slide_type": "fragment"
    }
   },
   "outputs": [
    {
     "data": {
      "text/html": [
       "(p &and; q) = &not;(&not;p &or; &not;q)"
      ],
      "text/plain": [
       "And(p, q) == Not(Or(Not(p), Not(q)))"
      ]
     },
     "execution_count": 12,
     "metadata": {},
     "output_type": "execute_result"
    }
   ],
   "source": [
    "p, q = Bools('p q')\n",
    "demorgan = And(p, q) == Not(Or(Not(p), Not(q)))\n",
    "demorgan"
   ]
  },
  {
   "cell_type": "code",
   "execution_count": 13,
   "id": "c7285123",
   "metadata": {
    "slideshow": {
     "slide_type": "fragment"
    }
   },
   "outputs": [
    {
     "name": "stdout",
     "output_type": "stream",
     "text": [
      "Proving De Morgan...\n",
      "proved\n"
     ]
    }
   ],
   "source": [
    "print(\"Proving De Morgan...\")\n",
    "prove(demorgan)"
   ]
  },
  {
   "cell_type": "markdown",
   "id": "613fda55",
   "metadata": {
    "slideshow": {
     "slide_type": "slide"
    }
   },
   "source": [
    "## List comprehensions"
   ]
  },
  {
   "cell_type": "markdown",
   "id": "109d6f28",
   "metadata": {
    "slideshow": {
     "slide_type": "fragment"
    }
   },
   "source": [
    "Python supports list comprehensions. List comprehensions provide a concise way to create lists. They can be used to create Z3 expressions and problems in Z3Py. \n",
    "\n",
    "The following example demonstrates how to use Python list comprehensions in Z3Py."
   ]
  },
  {
   "cell_type": "code",
   "execution_count": 14,
   "id": "4fd1407a",
   "metadata": {
    "slideshow": {
     "slide_type": "fragment"
    }
   },
   "outputs": [
    {
     "name": "stdout",
     "output_type": "stream",
     "text": [
      "[x0, x1, x2, x3, x4]\n"
     ]
    }
   ],
   "source": [
    "# Create a list containing 5 integer variables\n",
    "X = [Bool(f'x{i}') for i in range(5)]\n",
    "print(X)"
   ]
  },
  {
   "cell_type": "markdown",
   "id": "491f2136",
   "metadata": {},
   "source": [
    "## Additional Resources\n",
    "\n",
    "* [Official repo](https://github.com/z3prover/z3)\n",
    "* [SMT-LIB 2.0 tutorial](https://rise4fun.com/z3/tutorial)\n",
    "* [More examples using Z3Py](https://ericpony.github.io/z3py-tutorial/)\n",
    "* [Mastering Z3](https://theory.stanford.edu/~nikolaj/programmingz3.html)"
   ]
  }
 ],
 "metadata": {
  "celltoolbar": "Slideshow",
  "kernelspec": {
   "display_name": "Python 3",
   "language": "python",
   "name": "python3"
  },
  "language_info": {
   "codemirror_mode": {
    "name": "ipython",
    "version": 3
   },
   "file_extension": ".py",
   "mimetype": "text/x-python",
   "name": "python",
   "nbconvert_exporter": "python",
   "pygments_lexer": "ipython3",
   "version": "3.8.8"
  }
 },
 "nbformat": 4,
 "nbformat_minor": 5
}
